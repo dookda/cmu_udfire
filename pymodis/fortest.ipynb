{
 "cells": [
  {
   "cell_type": "code",
   "execution_count": 2,
   "metadata": {},
   "outputs": [
    {
     "name": "stdout",
     "output_type": "stream",
     "text": [
      "216\n"
     ]
    }
   ],
   "source": [
    "from datetime import date, timedelta, datetime\n",
    "\n",
    "dt = datetime.now()\n",
    "doy = dt.timetuple().tm_yday - 3\n",
    "year = \"2022\"\n",
    "if doy < 10:\n",
    "    doy = \"00\" + str(doy)\n",
    "elif doy < 100:\n",
    "    doy = \"0\" + str(doy)\n",
    "else:\n",
    "    doy = str(doy)\n",
    "\n",
    "print(doy)\n",
    "    "
   ]
  }
 ],
 "metadata": {
  "kernelspec": {
   "display_name": "Python 3.9.13 64-bit",
   "language": "python",
   "name": "python3"
  },
  "language_info": {
   "codemirror_mode": {
    "name": "ipython",
    "version": 3
   },
   "file_extension": ".py",
   "mimetype": "text/x-python",
   "name": "python",
   "nbconvert_exporter": "python",
   "pygments_lexer": "ipython3",
   "version": "3.9.13"
  },
  "orig_nbformat": 4,
  "vscode": {
   "interpreter": {
    "hash": "aee8b7b246df8f9039afb4144a1f6fd8d2ca17a180786b69acc140d282b71a49"
   }
  }
 },
 "nbformat": 4,
 "nbformat_minor": 2
}
