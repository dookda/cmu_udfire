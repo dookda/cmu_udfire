{
 "cells": [
  {
   "cell_type": "code",
   "execution_count": 2,
   "metadata": {},
   "outputs": [
    {
     "name": "stdout",
     "output_type": "stream",
     "text": [
      "292\n"
     ]
    }
   ],
   "source": [
    "from datetime import date, timedelta, datetime\n",
    "\n",
    "dt = datetime.now()\n",
    "doy = dt.timetuple().tm_yday - 3\n",
    "year = \"2022\"\n",
    "if doy < 10:\n",
    "    doy = \"00\" + str(doy)\n",
    "elif doy < 100:\n",
    "    doy = \"0\" + str(doy)\n",
    "else:\n",
    "    doy = str(doy)\n",
    "\n",
    "print(doy)\n",
    "    "
   ]
  },
  {
   "cell_type": "code",
   "execution_count": 3,
   "metadata": {},
   "outputs": [
    {
     "name": "stdout",
     "output_type": "stream",
     "text": [
      "295\n",
      "256 20220913 2022\n",
      "257 20220914 2022\n",
      "258 20220915 2022\n",
      "259 20220916 2022\n",
      "260 20220917 2022\n",
      "261 20220918 2022\n",
      "262 20220919 2022\n",
      "263 20220920 2022\n",
      "264 20220921 2022\n",
      "265 20220922 2022\n",
      "266 20220923 2022\n",
      "267 20220924 2022\n",
      "268 20220925 2022\n",
      "269 20220926 2022\n",
      "270 20220927 2022\n",
      "271 20220928 2022\n",
      "272 20220929 2022\n",
      "273 20220930 2022\n",
      "274 20221001 2022\n",
      "275 20221002 2022\n",
      "276 20221003 2022\n",
      "277 20221004 2022\n",
      "278 20221005 2022\n",
      "279 20221006 2022\n",
      "280 20221007 2022\n",
      "281 20221008 2022\n",
      "282 20221009 2022\n",
      "283 20221010 2022\n",
      "284 20221011 2022\n",
      "285 20221012 2022\n",
      "286 20221013 2022\n",
      "287 20221014 2022\n",
      "288 20221015 2022\n",
      "289 20221016 2022\n",
      "290 20221017 2022\n",
      "291 20221018 2022\n",
      "292 20221019 2022\n",
      "293 20221020 2022\n",
      "294 20221021 2022\n",
      "295 20221022 2022\n"
     ]
    }
   ],
   "source": [
    "from datetime import date, timedelta, datetime\n",
    "\n",
    "dt = datetime.now()\n",
    "doyEnd = dt.timetuple().tm_yday\n",
    "doy = 4\n",
    "year = date.today().year\n",
    "# year = 2022\n",
    "\n",
    "print(doyEnd)\n",
    "\n",
    "for doy in range(256, doyEnd + 1):\n",
    "    if doy < 10:\n",
    "        doy = \"00\" + str(doy)\n",
    "    elif doy < 100:\n",
    "        doy = \"0\" + str(doy)\n",
    "    else:\n",
    "        doy = str(doy)\n",
    "\n",
    "    doy.rjust(3 + len(doy), '0')\n",
    "    dd = datetime.strptime(str(year) + \"-\" + doy,\n",
    "                               \"%Y-%j\").strftime(\"%Y%m%d\")\n",
    "\n",
    "    # getJSON(doy, dd, year)\n",
    "    print(doy, dd, year)"
   ]
  }
 ],
 "metadata": {
  "kernelspec": {
   "display_name": "Python 3.9.13 64-bit",
   "language": "python",
   "name": "python3"
  },
  "language_info": {
   "codemirror_mode": {
    "name": "ipython",
    "version": 3
   },
   "file_extension": ".py",
   "mimetype": "text/x-python",
   "name": "python",
   "nbconvert_exporter": "python",
   "pygments_lexer": "ipython3",
   "version": "3.10.8"
  },
  "orig_nbformat": 4,
  "vscode": {
   "interpreter": {
    "hash": "aee8b7b246df8f9039afb4144a1f6fd8d2ca17a180786b69acc140d282b71a49"
   }
  }
 },
 "nbformat": 4,
 "nbformat_minor": 2
}
