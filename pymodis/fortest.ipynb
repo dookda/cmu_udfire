{
 "cells": [
  {
   "cell_type": "code",
   "execution_count": 2,
   "metadata": {},
   "outputs": [
    {
     "name": "stdout",
     "output_type": "stream",
     "text": [
      "292\n"
     ]
    }
   ],
   "source": [
    "from datetime import date, timedelta, datetime\n",
    "\n",
    "dt = datetime.now()\n",
    "doy = dt.timetuple().tm_yday - 3\n",
    "year = \"2022\"\n",
    "if doy < 10:\n",
    "    doy = \"00\" + str(doy)\n",
    "elif doy < 100:\n",
    "    doy = \"0\" + str(doy)\n",
    "else:\n",
    "    doy = str(doy)\n",
    "\n",
    "print(doy)\n",
    "    "
   ]
  },
  {
   "cell_type": "code",
   "execution_count": 4,
   "metadata": {},
   "outputs": [
    {
     "name": "stdout",
     "output_type": "stream",
     "text": [
      "295\n",
      "293 20221020 2022\n",
      "294 20221021 2022\n",
      "295 20221022 2022\n"
     ]
    }
   ],
   "source": [
    "from datetime import date, timedelta, datetime\n",
    "\n",
    "dt = datetime.now()\n",
    "doyEnd = dt.timetuple().tm_yday\n",
    "doy = 4\n",
    "year = date.today().year\n",
    "# year = 2022\n",
    "\n",
    "print(doyEnd)\n",
    "\n",
    "for doy in range(293, doyEnd + 1):\n",
    "    if doy < 10:\n",
    "        doy = \"00\" + str(doy)\n",
    "    elif doy < 100:\n",
    "        doy = \"0\" + str(doy)\n",
    "    else:\n",
    "        doy = str(doy)\n",
    "\n",
    "    doy.rjust(3 + len(doy), '0')\n",
    "    dd = datetime.strptime(str(year) + \"-\" + doy,\n",
    "                               \"%Y-%j\").strftime(\"%Y%m%d\")\n",
    "\n",
    "    # getJSON(doy, dd, year)\n",
    "    print(doy, dd, year)"
   ]
  }
 ],
 "metadata": {
  "kernelspec": {
   "display_name": "Python 3.9.13 64-bit",
   "language": "python",
   "name": "python3"
  },
  "language_info": {
   "codemirror_mode": {
    "name": "ipython",
    "version": 3
   },
   "file_extension": ".py",
   "mimetype": "text/x-python",
   "name": "python",
   "nbconvert_exporter": "python",
   "pygments_lexer": "ipython3",
   "version": "3.10.8"
  },
  "orig_nbformat": 4,
  "vscode": {
   "interpreter": {
    "hash": "aee8b7b246df8f9039afb4144a1f6fd8d2ca17a180786b69acc140d282b71a49"
   }
  }
 },
 "nbformat": 4,
 "nbformat_minor": 2
}
