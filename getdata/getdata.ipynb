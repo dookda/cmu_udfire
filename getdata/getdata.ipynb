{
 "cells": [
  {
   "cell_type": "code",
   "execution_count": 4,
   "metadata": {},
   "outputs": [],
   "source": [
    "from datetime import datetime, timedelta\n",
    "import requests"
   ]
  },
  {
   "cell_type": "code",
   "execution_count": 7,
   "metadata": {},
   "outputs": [],
   "source": [
    "locationVill = [\n",
    "    {'div': 'a', 'sta': \"บ้านปากทับ\", 'lat': 17.748892, 'lng': 100.422899},\n",
    "    {'div': 'b', 'sta': \"บ้านงอมถ้ำ\", 'lat': 17.972817, 'lng': 100.581703},\n",
    "    {'div': 'c', 'sta': \"ห้วยแมง\", 'lat': 17.605355, 'lng': 100.558604},\n",
    "    {'div': 'd', 'sta': \"ป่าคาย\", 'lat': 17.52914, 'lng': 100.339262},\n",
    "    {'div': 'e', 'sta': \"ปางวัว\", 'lat': 17.83773, 'lng': 100.171323},\n",
    "    {'div': 'f', 'sta': \"หนองไผ่\", 'lat': 17.599284, 'lng': 100.378302},\n",
    "    {'div': 'g', 'sta': \"บ้านคุ้งยาง\", 'lat': 17.625081, 'lng': 100.291825},\n",
    "    {'div': 'h', 'sta': \"บ้านผาจักร\", 'lat': 17.62646, 'lng': 100.269156},\n",
    "    {'div': 'i', 'sta': \"บ้ายห้วยปอบ\", 'lat': 17.781632, 'lng': 100.245051},\n",
    "    {'div': 'j', 'sta': \"บ้านนาตารอด\", 'lat': 17.681839, 'lng': 100.374567}\n",
    "]"
   ]
  },
  {
   "cell_type": "code",
   "execution_count": null,
   "metadata": {},
   "outputs": [],
   "source": [
    "\n",
    "# date method\n",
    "date_start = datetime(2022, 1, 1)  # Replace with your desired start date\n",
    "current_date = datetime.now()\n",
    "\n",
    "# Loop through the range of dates\n",
    "while date_start <= current_date:\n",
    "    print(date_start.strftime(\"%Y-%m-%d\")) \n",
    "    date_start += timedelta(days=1) "
   ]
  },
  {
   "cell_type": "code",
   "execution_count": 23,
   "metadata": {},
   "outputs": [
    {
     "name": "stdout",
     "output_type": "stream",
     "text": [
      "Done\n"
     ]
    }
   ],
   "source": [
    "base_url = \"http://udfire.com:3100/getpixelvalue/ndmi\"\n",
    "\n",
    " # Loop until current date\n",
    "with open('output.txt', 'w') as file:\n",
    "    for location in locationVill:\n",
    "        date_start = datetime(2022, 11, 1)\n",
    "        current_date = datetime.now()\n",
    "        lat = location['lat']\n",
    "        lng = location['lng']\n",
    "\n",
    "        while date_start <= current_date:  # Replace \"2023-05-27\" with the current date\n",
    "            dd = date_start.strftime(\"%Y%m%d\")\n",
    "            url = f\"{base_url}/{dd}/{lat}/{lng}\"\n",
    "            response = requests.get(url)\n",
    "            data = response.json()\n",
    "\n",
    "            processed_data = {}\n",
    "            for key, value in data.items():\n",
    "                if isinstance(value, str):\n",
    "                    processed_data[key] = value.replace('\\n', '')\n",
    "                else:\n",
    "                    processed_data[key] = value\n",
    "\n",
    "            data = f\"{location['sta']}, {date_start.strftime('%Y-%m-%d')}, {processed_data['val']}\\n\"\n",
    "\n",
    "            file.write(data)\n",
    "                \n",
    "            date_start += timedelta(days=1) \n",
    "    print(\"Done\")"
   ]
  }
 ],
 "metadata": {
  "kernelspec": {
   "display_name": "tfod",
   "language": "python",
   "name": "tfod"
  },
  "language_info": {
   "codemirror_mode": {
    "name": "ipython",
    "version": 3
   },
   "file_extension": ".py",
   "mimetype": "text/x-python",
   "name": "python",
   "nbconvert_exporter": "python",
   "pygments_lexer": "ipython3",
   "version": "3.9.16"
  },
  "orig_nbformat": 4
 },
 "nbformat": 4,
 "nbformat_minor": 2
}
